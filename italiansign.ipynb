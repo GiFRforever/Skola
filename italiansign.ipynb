{
 "cells": [
  {
   "cell_type": "code",
   "execution_count": 11,
   "metadata": {},
   "outputs": [
    {
     "ename": "",
     "evalue": "",
     "output_type": "error",
     "traceback": [
      "\u001b[1;31mThe Kernel crashed while executing code in the the current cell or a previous cell. Please review the code in the cell(s) to identify a possible cause of the failure. Click <a href='https://aka.ms/vscodeJupyterKernelCrash'>here</a> for more info. View Jupyter <a href='command:jupyter.viewOutput'>log</a> for further details."
     ]
    }
   ],
   "source": [
    "import os\n",
    "newdir: str = \"S:\\\\\"\n",
    "olddir: str = \"T:\\\\Seriály\\\\Star Trek Nová Generace\\\\S01\\\\newfiles\"\n",
    "newfiles: list[str] = os.listdir(newdir)[1:26]\n",
    "oldfiles: list[str] = os.listdir(olddir)"
   ]
  },
  {
   "cell_type": "code",
   "execution_count": null,
   "metadata": {},
   "outputs": [],
   "source": [
    "for newfile, oldfile in zip(newfiles, oldfiles):\n",
    "    os.system(f'ffmpeg  -i \"{newdir}\\\\{newfile}\" -i \"{olddir}\\\\{oldfile}\" -c:v copy -c:a copy -c:s copy \"T:\\\\Seriály\\\\Star Trek Nová Generace\\\\S01\\\\{newfile}')"
   ]
  }
 ],
 "metadata": {
  "kernelspec": {
   "display_name": "Python 3",
   "language": "python",
   "name": "python3"
  },
  "language_info": {
   "codemirror_mode": {
    "name": "ipython",
    "version": 3
   },
   "file_extension": ".py",
   "mimetype": "text/x-python",
   "name": "python",
   "nbconvert_exporter": "python",
   "pygments_lexer": "ipython3",
   "version": "3.11.6"
  },
  "orig_nbformat": 4
 },
 "nbformat": 4,
 "nbformat_minor": 2
}
