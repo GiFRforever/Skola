{
 "cells": [
  {
   "cell_type": "code",
   "execution_count": 1,
   "metadata": {},
   "outputs": [],
   "source": [
    "import ephem\n"
   ]
  },
  {
   "cell_type": "code",
   "execution_count": 2,
   "metadata": {},
   "outputs": [],
   "source": [
    "\n",
    "# set the observer's location\n",
    "observer = ephem.Observer()\n",
    "observer.lon = '16.9891085' # replace with desired longitude in degrees\n",
    "observer.lat = '49.7205939' # replace with desired latitude in degrees\n",
    "observer.elevation = 0 # replace with observer's elevation in meters"
   ]
  },
  {
   "cell_type": "code",
   "execution_count": 5,
   "metadata": {},
   "outputs": [
    {
     "name": "stdout",
     "output_type": "stream",
     "text": [
      "Jupiter altitude:  -1:53:24.7\n",
      "Jupiter azimuth:  279:31:52.5\n"
     ]
    }
   ],
   "source": [
    "\n",
    "# set the date and time (in UTC)\n",
    "# observer.date = ephem.Date('2023/03/01 19:00:00')\n",
    "observer.date = ephem.now()\n",
    "\n",
    "# create a jupiter object\n",
    "jupiter = ephem.Jupiter()\n",
    "\n",
    "# compute the position of jupiter\n",
    "jupiter.compute(observer)\n",
    "\n",
    "# print the position of jupiter\n",
    "print('Jupiter altitude: ', jupiter.alt)\n",
    "print('Jupiter azimuth: ', jupiter.az)\n"
   ]
  }
 ],
 "metadata": {
  "kernelspec": {
   "display_name": "Python 3",
   "language": "python",
   "name": "python3"
  },
  "language_info": {
   "codemirror_mode": {
    "name": "ipython",
    "version": 3
   },
   "file_extension": ".py",
   "mimetype": "text/x-python",
   "name": "python",
   "nbconvert_exporter": "python",
   "pygments_lexer": "ipython3",
   "version": "3.11.2"
  },
  "orig_nbformat": 4
 },
 "nbformat": 4,
 "nbformat_minor": 2
}
