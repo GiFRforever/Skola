{
 "cells": [
  {
   "cell_type": "code",
   "execution_count": 34,
   "metadata": {},
   "outputs": [],
   "source": [
    "import platform\n",
    "import geocoder\n",
    "import ephem\n",
    "from datetime import datetime, timedelta"
   ]
  },
  {
   "cell_type": "code",
   "execution_count": 35,
   "metadata": {},
   "outputs": [],
   "source": [
    "# Get the current location of the user based on the platform\n",
    "if platform.system() == \"Windows\":\n",
    "    # Get the user's location based on their IP address\n",
    "    location = geocoder.ip('me')\n",
    "\n",
    "    latitude = location.lat\n",
    "    longitude = location.lng\n",
    "    observer = ephem.Observer()\n",
    "    observer.lat = latitude\n",
    "    observer.lon = longitude\n",
    "elif platform.system() == \"Android\":\n",
    "    from geopy.geocoders import Nominatim\n",
    "\n",
    "    # Get the current location of the user based on IP address\n",
    "    geolocator = Nominatim(user_agent=\"geoapiExercises\")\n",
    "    location = geolocator.geocode(\"\")\n",
    "\n",
    "    latitude = location.latitude\n",
    "    longitude = location.longitude\n",
    "    observer = ephem.Observer()\n",
    "    observer.lat = str(latitude)\n",
    "    observer.lon = str(longitude)\n",
    "else:\n",
    "    print(\"Unsupported platform.\")\n",
    "    exit()"
   ]
  },
  {
   "cell_type": "code",
   "execution_count": 36,
   "metadata": {},
   "outputs": [],
   "source": [
    "# Ask the user for the time, default to the current time\n",
    "input_time = input(\"Enter UTC time in the format 'YYYY-MM-DD HH:MM:SS', or leave blank for current time: \")\n",
    "if input_time:\n",
    "    if input_time[0] not in [\"+\", \"-\"]:\n",
    "        dt = datetime.strptime(input_time, '%Y-%m-%d %H:%M:%S')\n",
    "    else:\n",
    "        if len(input_time_list := input_time.split(\":\")) == 1:\n",
    "            td = timedelta(minutes=abs(int(input_time)))\n",
    "        elif len(input_time_list) == 2:\n",
    "            td = timedelta(hours=abs(int(input_time_list[0])), minutes=abs(int(input_time_list[1])))\n",
    "        else:\n",
    "            print(\"Invalid time format.\")\n",
    "            exit()\n",
    "        if input_time[0] == \"+\":\n",
    "            dt = datetime.utcnow() + td\n",
    "        elif input_time[0] == \"-\":\n",
    "            dt = datetime.utcnow() - td\n",
    "        else:\n",
    "            print(\"Invalid time format.\")\n",
    "            exit()\n",
    "    \n",
    "else:\n",
    "    dt = datetime.utcnow()"
   ]
  },
  {
   "cell_type": "code",
   "execution_count": 37,
   "metadata": {},
   "outputs": [],
   "source": [
    "\n",
    "# Get the list of available celestial bodies\n",
    "body_list = ['sun', 'moon', 'mercury', 'venus', 'mars', 'jupiter', 'saturn', 'uranus', 'neptune']\n",
    "\n",
    "# Ask the user for the choice of celestial body\n",
    "choice = input(\"Enter the name of the celestial body you want to calculate the position for, or type 'list' to see available options: \")\n",
    "while choice.lower() == 'list':\n",
    "    print(\"Available celestial bodies:\")\n",
    "    for body_name in body_list:\n",
    "        print(f\"- {body_name}\")\n",
    "    choice = input(\"Enter the name of the celestial body you want to calculate the position for, or type 'list' to see available options: \")\n",
    "\n",
    "# Check if the user's choice is valid\n",
    "if choice.lower() == \"sun\":\n",
    "    body = ephem.Sun()\n",
    "elif choice.lower() == \"moon\":\n",
    "    body = ephem.Moon()\n",
    "elif choice.lower() in body_list:\n",
    "    body = getattr(ephem, choice.title())()\n",
    "else:\n",
    "    print(\"Invalid choice.\")\n",
    "    exit()"
   ]
  },
  {
   "cell_type": "code",
   "execution_count": 38,
   "metadata": {},
   "outputs": [
    {
     "name": "stdout",
     "output_type": "stream",
     "text": [
      "At 2023-03-01 18:18:00 UTC the jupiter is at altitude -76°56'14.8\" and azimuth 241°19'02.0\" from your location.\n"
     ]
    }
   ],
   "source": [
    "# Get the position of the celestial body at the specified time\n",
    "observer.date = dt.strftime('%Y/%m/%d %H:%M:%S')\n",
    "body.compute(observer)\n",
    "\n",
    "# Print the position of the celestial body\n",
    "alt = body.alt\n",
    "az = body.az\n",
    "znacky = [\"°\", \"'\", '\"']\n",
    "znackovac = lambda f: ''.join([y for x in zip(str(f).split(':'), znacky) for y in x])\n",
    "print(f\"At {dt} UTC the {choice} is at altitude {znackovac(alt)} and azimuth {znackovac(az)} from your location.\")"
   ]
  }
 ],
 "metadata": {
  "kernelspec": {
   "display_name": "Python 3",
   "language": "python",
   "name": "python3"
  },
  "language_info": {
   "codemirror_mode": {
    "name": "ipython",
    "version": 3
   },
   "file_extension": ".py",
   "mimetype": "text/x-python",
   "name": "python",
   "nbconvert_exporter": "python",
   "pygments_lexer": "ipython3",
   "version": "3.11.2"
  },
  "orig_nbformat": 4
 },
 "nbformat": 4,
 "nbformat_minor": 2
}
