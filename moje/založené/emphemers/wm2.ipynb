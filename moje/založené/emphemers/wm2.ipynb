{
 "cells": [
  {
   "cell_type": "code",
   "execution_count": 1,
   "metadata": {},
   "outputs": [
    {
     "name": "stderr",
     "output_type": "stream",
     "text": [
      "[#################################] 100% de421.bsp\n"
     ]
    }
   ],
   "source": [
    "import platform\n",
    "from skyfield.api import load, wgs84\n",
    "from datetime import datetime, timedelta\n",
    "\n",
    "# Load the ephemeris data for the planets and stars\n",
    "planets = load(\"de421.bsp\")\n",
    "# stars = load(\"bright_stars_novas_de418.bsp\")"
   ]
  },
  {
   "cell_type": "code",
   "execution_count": 2,
   "metadata": {},
   "outputs": [],
   "source": [
    "# Get the current location of the user based on the platform\n",
    "if platform.system() == \"Windows\":\n",
    "    import geocoder\n",
    "\n",
    "    # Get the user's location based on their IP address\n",
    "    location = geocoder.ip(\"me\")\n",
    "\n",
    "    latitude = location.lat\n",
    "    longitude = location.lng\n",
    "    observer = wgs84.latlon(latitude, longitude)\n",
    "elif platform.system() == \"Android\":\n",
    "    import android\n",
    "    from android.permissions import Permission, request_permissions\n",
    "\n",
    "    # Request location permission from the user\n",
    "    request_permissions(\n",
    "        [Permission.ACCESS_COARSE_LOCATION, Permission.ACCESS_FINE_LOCATION]\n",
    "    )\n",
    "    droid = android.Android()\n",
    "\n",
    "    # Get the current location of the user\n",
    "    location = droid.readLocation().result\n",
    "    latitude = location[\"network\"][\"latitude\"]\n",
    "    longitude = location[\"network\"][\"longitude\"]\n",
    "    observer = wgs84.latlon(latitude, longitude)\n",
    "else:\n",
    "    print(\"Unsupported platform.\")\n",
    "    exit()"
   ]
  },
  {
   "cell_type": "code",
   "execution_count": 10,
   "metadata": {},
   "outputs": [
    {
     "name": "stdout",
     "output_type": "stream",
     "text": [
      "Available celestial bodies:\n",
      "SPICE kernel file 'de421.bsp' has 15 segments\n",
      "  JD 2414864.50 - JD 2471184.50  (1899-07-28 through 2053-10-08)\n",
      "      0 -> 1    SOLAR SYSTEM BARYCENTER -> MERCURY BARYCENTER\n",
      "      0 -> 2    SOLAR SYSTEM BARYCENTER -> VENUS BARYCENTER\n",
      "      0 -> 3    SOLAR SYSTEM BARYCENTER -> EARTH BARYCENTER\n",
      "      0 -> 4    SOLAR SYSTEM BARYCENTER -> MARS BARYCENTER\n",
      "      0 -> 5    SOLAR SYSTEM BARYCENTER -> JUPITER BARYCENTER\n",
      "      0 -> 6    SOLAR SYSTEM BARYCENTER -> SATURN BARYCENTER\n",
      "      0 -> 7    SOLAR SYSTEM BARYCENTER -> URANUS BARYCENTER\n",
      "      0 -> 8    SOLAR SYSTEM BARYCENTER -> NEPTUNE BARYCENTER\n",
      "      0 -> 9    SOLAR SYSTEM BARYCENTER -> PLUTO BARYCENTER\n",
      "      0 -> 10   SOLAR SYSTEM BARYCENTER -> SUN\n",
      "      3 -> 301  EARTH BARYCENTER -> MOON\n",
      "      3 -> 399  EARTH BARYCENTER -> EARTH\n",
      "      1 -> 199  MERCURY BARYCENTER -> MERCURY\n",
      "      2 -> 299  VENUS BARYCENTER -> VENUS\n",
      "      4 -> 499  MARS BARYCENTER -> MARS\n"
     ]
    }
   ],
   "source": [
    "\n",
    "# Ask the user for the time, default to the current time\n",
    "input_time = input(\n",
    "    \"Enter time in the format 'YYYY-MM-DD HH:MM:SS', or leave blank for current time: \"\n",
    ")\n",
    "if input_time:\n",
    "    dt = datetime.strptime(input_time, \"%Y-%m-%d %H:%M:%S\")\n",
    "else:\n",
    "    dt = datetime.utcnow()\n",
    "\n",
    "# Get the list of available celestial bodies\n",
    "#body_list = list(planets.keys())  # + list(stars.keys())\n",
    "\n",
    "# Ask the user for the choice of celestial body\n",
    "choice = input(\n",
    "    \"Enter the name of the celestial body you want to calculate the position for, or type 'list' to see available options: \"\n",
    ")\n",
    "while choice.lower() == \"list\":\n",
    "    print(\"Available celestial bodies:\")\n",
    "    # for body_name in body_list:\n",
    "    #     print(f\"- {body_name}\")\n",
    "    print(planets)\n",
    "    choice = input(\n",
    "        \"Enter the name of the celestial body you want to calculate the position for, or type 'list' to see available options: \"\n",
    "    )"
   ]
  },
  {
   "cell_type": "code",
   "execution_count": 11,
   "metadata": {},
   "outputs": [
    {
     "name": "stdout",
     "output_type": "stream",
     "text": [
      "Invalid choice.\n"
     ]
    },
    {
     "ename": "AttributeError",
     "evalue": "'Geocentric' object has no attribute 'observe'",
     "output_type": "error",
     "traceback": [
      "\u001b[1;31m---------------------------------------------------------------------------\u001b[0m",
      "\u001b[1;31mAttributeError\u001b[0m                            Traceback (most recent call last)",
      "Cell \u001b[1;32mIn[11], line 17\u001b[0m\n\u001b[0;32m     15\u001b[0m ts \u001b[39m=\u001b[39m load\u001b[39m.\u001b[39mtimescale()\n\u001b[0;32m     16\u001b[0m t \u001b[39m=\u001b[39m ts\u001b[39m.\u001b[39mutc(dt\u001b[39m.\u001b[39myear, dt\u001b[39m.\u001b[39mmonth, dt\u001b[39m.\u001b[39mday, dt\u001b[39m.\u001b[39mhour, dt\u001b[39m.\u001b[39mminute, dt\u001b[39m.\u001b[39msecond)\n\u001b[1;32m---> 17\u001b[0m position \u001b[39m=\u001b[39m observer\u001b[39m.\u001b[39;49mat(t)\u001b[39m.\u001b[39;49mobserve(body)\u001b[39m.\u001b[39mapparent()\n\u001b[0;32m     19\u001b[0m \u001b[39m# Print the position of the celestial body\u001b[39;00m\n\u001b[0;32m     20\u001b[0m alt, az, distance \u001b[39m=\u001b[39m position\u001b[39m.\u001b[39maltaz()\n",
      "\u001b[1;31mAttributeError\u001b[0m: 'Geocentric' object has no attribute 'observe'"
     ]
    },
    {
     "ename": "",
     "evalue": "",
     "output_type": "error",
     "traceback": [
      "\u001b[1;31mThe Kernel crashed while executing code in the the current cell or a previous cell. Please review the code in the cell(s) to identify a possible cause of the failure. Click <a href='https://aka.ms/vscodeJupyterKernelCrash'>here</a> for more info. View Jupyter <a href='command:jupyter.viewOutput'>log</a> for further details."
     ]
    }
   ],
   "source": [
    "\n",
    "# Check if the user's choice is valid\n",
    "if choice.lower() == \"sun\":\n",
    "    body = planets[\"sun\"]\n",
    "elif choice.lower() == \"moon\":\n",
    "    body = planets[\"moon\"]\n",
    "elif choice.lower() in planets:\n",
    "    body = planets[choice.lower()]\n",
    "# elif choice.lower() in stars:\n",
    "#     body = stars[choice.lower()]\n",
    "else:\n",
    "    print(\"Invalid choice.\")\n",
    "    exit()\n",
    "\n",
    "# Get the position of the celestial body at the specified time\n",
    "ts = load.timescale()\n",
    "t = ts.utc(dt.year, dt.month, dt.day, dt.hour, dt.minute, dt.second)\n",
    "position = observer.at(t).observe(body).apparent()\n",
    "\n",
    "# Print the position of the celestial body\n",
    "alt, az, distance = position.altaz()\n",
    "print(f\"At {dt} the {choice} is at altitude {alt} and azimuth {az} from your location.\")\n"
   ]
  }
 ],
 "metadata": {
  "kernelspec": {
   "display_name": "Python 3",
   "language": "python",
   "name": "python3"
  },
  "language_info": {
   "codemirror_mode": {
    "name": "ipython",
    "version": 3
   },
   "file_extension": ".py",
   "mimetype": "text/x-python",
   "name": "python",
   "nbconvert_exporter": "python",
   "pygments_lexer": "ipython3",
   "version": "3.11.2"
  },
  "orig_nbformat": 4
 },
 "nbformat": 4,
 "nbformat_minor": 2
}
